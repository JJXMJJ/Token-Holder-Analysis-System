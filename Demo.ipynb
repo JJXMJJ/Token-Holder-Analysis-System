{
 "cells": [
  {
   "cell_type": "markdown",
   "id": "9dd002ee",
   "metadata": {},
   "source": [
    "# Token Holder Analysis System"
   ]
  },
  {
   "cell_type": "markdown",
   "id": "9d091e7e",
   "metadata": {},
   "source": [
    "## Task 1, 2 & 3"
   ]
  },
  {
   "cell_type": "code",
   "execution_count": 3,
   "id": "09740a87",
   "metadata": {},
   "outputs": [
    {
     "name": "stdout",
     "output_type": "stream",
     "text": [
      "\n",
      "Top 100 token holder data saved to: bedrock-token_100_token_holders.csv\n",
      "\n",
      "Filtered Exchange Wallets:\n",
      "                                   address arkhamEntity.name                          arkhamLabel.name\n",
      "0xf89d7b9c864f589bbF53a82105107622B35EaA40             Bybit                                Hot Wallet\n",
      "0xF95F84e2baD9C234f93dd66614b82F9A854b452e       PancakeSwap                                   V3 Pool\n",
      "0x73D8bD54F7Cf5FAb43fE4Ef40A62D390644946Db    Binance Wallet              Proxy (EIP-1967 Transparent)\n",
      "0x0D0707963952f2fBA59dD06f2b425ace40b492Fe           Gate.io                                Hot Wallet\n",
      "0x1AB4973a48dc892Cd9971ECE8e01DcC7688f8F23            Bitget                                Hot Wallet\n",
      "0x4982085C9e2F89F2eCb8131Eca71aFAD896e89CB              MEXC                                Hot Wallet\n",
      "0x53f78A071d04224B8e254E243fFfc6D9f2f3Fa23            KuCoin                                Hot Wallet\n",
      "0x32e3e876aa0C1732ed9Efcf9d8615De7afaEF59f            CoinEx                                Hot Wallet\n",
      "0x3942F7B55094250644cFfDa7160226Caa349A38E    Pendle Finance PendleMultiTokenMerkleDistributor (Proxy)\n",
      "0xC3dcd744db3f114f0edF03682b807b78A227Bf74             BingX                               Cold Wallet\n",
      "0xa23EF2319bA4C933eBfDbA80c332664A6Cb13F1A           BitMart                                Hot Wallet\n",
      "0xB85b098448b2AAC4af96F5bDD9C6c02373a08975               NaN                           Gate.io Deposit\n",
      "0x24A0D9928a3B6CD13A6210d0fF6D450A080FC266               NaN                           Gate.io Deposit\n",
      "0x8D17fBFB03a6B7e8FdcFd60f1F9e6C08578BA5d7               NaN                           Gate.io Deposit\n",
      "0x8494AadAbCBCcB56aeEa457eE63D47d9dDf2b050               NaN                           Gate.io Deposit\n",
      "0x6CDf94520D00EF13b9b56F3815107B9529b8957b               NaN                           Gate.io Deposit\n",
      "0xe6451016f095835A0D5eF98a5C0092e47ddF0A93               NaN                           Gate.io Deposit\n",
      "0xEE172170fACA00EB9309a87A46413cB5215bCE91               NaN                           Gate.io Deposit\n",
      "0x8760Eb46345E8faBfdeFf62A55E7bDF081d8A355               NaN                           Gate.io Deposit\n",
      "\n",
      "Top 10 combined share: 42.78%\n",
      "Top 20 combined share: 50.14%\n",
      "Top 50 combined share: 58.60%\n",
      "\n",
      "Herfindahl-Hirschman Index (HHI): 532.48\n",
      "\n",
      "Flagged addresses (holding >5% of supply):\n",
      "                                   address\n",
      "0x882606470f29AbA05856aBf1b077cc55aD2A9AD9\n",
      "0xBbD5c1a40FafAeA7A00d23d2f8BE68aa7A767989\n",
      "\n",
      "Filtered token holder data saved to: bedrock-token_filtered_token_holders.csv\n"
     ]
    }
   ],
   "source": [
    "from token_holder_pull_and_analysis import TokenHolderAnalyzer\n",
    "\n",
    "token='bedrock-token'\n",
    "total_supply = 1e9\n",
    "locked_supply = 790000000\n",
    "locked_addresses = [\n",
    "    '0x3aF23717C7637595b7C95D9E03B2A08d0470290d',\n",
    "    '0xd7CdA9eA2D23e8F473Bb49225234449282aD6A62',\n",
    "    '0x3f36D044c50cC701e1AFa9e1425C632e59AFbA4c',\n",
    "    '0xC22a28447453a2F1C2A6867a2d61153498Ec13F2',\n",
    "    '0xCCdbFF508f5d8544Af01103A719325890C24b508',\n",
    "    '0xbA62C98D420CaEF91e4D731edeA7265fDd60d664',\n",
    "]\n",
    "\n",
    "analyzer = TokenHolderAnalyzer(total_supply, locked_supply, locked_addresses, token)\n",
    "\n",
    "# Fetch raw token holder data\n",
    "raw_df = analyzer.fetch_token_holders()\n",
    "\n",
    "# Filter and analyze token holder data\n",
    "filtered_df = analyzer.filter_and_analyze(raw_df)\n"
   ]
  },
  {
   "cell_type": "markdown",
   "id": "18c45107",
   "metadata": {},
   "source": [
    "### Classification Categories\n",
    "1. Team/Vesting: Address `0x882606470f29AbA05856aBf1b077cc55aD2A9AD9` which is the only one active currently and distributing circulating supply\n",
    "2. Market Makers: No addresses identified in this category\n",
    "3. Exchanges: Please see the result above"
   ]
  },
  {
   "cell_type": "markdown",
   "id": "f3d359ac",
   "metadata": {},
   "source": [
    "### Evaluation Criteria\n",
    "- [✔] Maintains production-grade structure even with mock data\n",
    "- [✔] Correctly implements data filtering logic  \n",
    "- [✔] Includes type hints and testable design\n",
    "- [✔] Mathematical correctness of HHI calculation\n",
    "- [✔] Efficient handling of large datasets\n",
    "- [✔] Clear output presentation"
   ]
  },
  {
   "cell_type": "markdown",
   "id": "3a1bc0e5",
   "metadata": {},
   "source": [
    "# Task 4"
   ]
  },
  {
   "cell_type": "code",
   "execution_count": 6,
   "id": "3db67473",
   "metadata": {},
   "outputs": [
    {
     "name": "stdout",
     "output_type": "stream",
     "text": [
      "Pool: WBNB/BR\n",
      "Current Price: 1 BR = 0.000066 WBNB\n",
      "TVL: $2,097,004.40\n",
      "Initial Reserves: 1749.219988 WBNB / 26486311.017817 BR\n",
      "New Reserves After Swap: 1682.834728 WBNB / 27531155.534506 BR\n",
      "Amount In: 1050094.991647 BR\n",
      "Amount Out: 66.385260 WBNB\n",
      "Trade Price: 1 BR = 0.000064 WBNB\n",
      "Price Impact: 3.795135%\n"
     ]
    }
   ],
   "source": [
    "from pancake_simulation import PancakeSwapAnalyzer\n",
    "\n",
    "# Example usage\n",
    "analyzer = PancakeSwapAnalyzer(coingecko_api_key=\"CG-PTSfJuf6dbcdXusfkcFRTrLV\")\n",
    "pool_address = \"0xf95f84e2bad9c234f93dd66614b82f9a854b452e\"\n",
    "token_in = \"0xff7d6a96ae471bbcd7713af9cb1feeb16cf56b41\"\n",
    "token_supply = analyzer.get_token_data(token_in)['supply']\n",
    "supply_trade_pct = 0.005\n",
    "amount_in = token_supply * supply_trade_pct  # Amount to trade (5% of total supply)\n",
    "\n",
    "# Assuming a 0.5% fee for the trade\n",
    "fee = 0.005 \n",
    "\n",
    "price_impact = analyzer.calculate_price_impact(pool_address, token_in, amount_in, fee)"
   ]
  }
 ],
 "metadata": {
  "kernelspec": {
   "display_name": "base",
   "language": "python",
   "name": "python3"
  },
  "language_info": {
   "codemirror_mode": {
    "name": "ipython",
    "version": 3
   },
   "file_extension": ".py",
   "mimetype": "text/x-python",
   "name": "python",
   "nbconvert_exporter": "python",
   "pygments_lexer": "ipython3",
   "version": "3.11.5"
  }
 },
 "nbformat": 4,
 "nbformat_minor": 5
}
